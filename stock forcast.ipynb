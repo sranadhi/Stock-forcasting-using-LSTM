{
 "cells": [
  {
   "cell_type": "code",
   "execution_count": 197,
   "metadata": {},
   "outputs": [],
   "source": [
    "import yfinance as yf\n",
    "\n",
    "import numpy as np\n",
    "\n",
    "import pandas as pd\n",
    "\n",
    "import tensorflow as tf\n",
    "\n",
    "import matplotlib.pyplot as plt"
   ]
  },
  {
   "cell_type": "code",
   "execution_count": 199,
   "metadata": {},
   "outputs": [
    {
     "name": "stdout",
     "output_type": "stream",
     "text": [
      "[*********************100%***********************]  1 of 1 completed\n"
     ]
    },
    {
     "data": {
      "text/html": [
       "<div>\n",
       "<style scoped>\n",
       "    .dataframe tbody tr th:only-of-type {\n",
       "        vertical-align: middle;\n",
       "    }\n",
       "\n",
       "    .dataframe tbody tr th {\n",
       "        vertical-align: top;\n",
       "    }\n",
       "\n",
       "    .dataframe thead th {\n",
       "        text-align: right;\n",
       "    }\n",
       "</style>\n",
       "<table border=\"1\" class=\"dataframe\">\n",
       "  <thead>\n",
       "    <tr style=\"text-align: right;\">\n",
       "      <th></th>\n",
       "      <th>Open</th>\n",
       "      <th>High</th>\n",
       "      <th>Low</th>\n",
       "      <th>Close</th>\n",
       "      <th>Adj Close</th>\n",
       "      <th>Volume</th>\n",
       "    </tr>\n",
       "    <tr>\n",
       "      <th>Date</th>\n",
       "      <th></th>\n",
       "      <th></th>\n",
       "      <th></th>\n",
       "      <th></th>\n",
       "      <th></th>\n",
       "      <th></th>\n",
       "    </tr>\n",
       "  </thead>\n",
       "  <tbody>\n",
       "    <tr>\n",
       "      <th>2022-04-20</th>\n",
       "      <td>168.759995</td>\n",
       "      <td>168.880005</td>\n",
       "      <td>166.100006</td>\n",
       "      <td>167.229996</td>\n",
       "      <td>166.223068</td>\n",
       "      <td>67929800</td>\n",
       "    </tr>\n",
       "    <tr>\n",
       "      <th>2022-04-21</th>\n",
       "      <td>168.910004</td>\n",
       "      <td>171.529999</td>\n",
       "      <td>165.910004</td>\n",
       "      <td>166.419998</td>\n",
       "      <td>165.417938</td>\n",
       "      <td>87227800</td>\n",
       "    </tr>\n",
       "    <tr>\n",
       "      <th>2022-04-22</th>\n",
       "      <td>166.460007</td>\n",
       "      <td>167.869995</td>\n",
       "      <td>161.500000</td>\n",
       "      <td>161.789993</td>\n",
       "      <td>160.815826</td>\n",
       "      <td>84882400</td>\n",
       "    </tr>\n",
       "    <tr>\n",
       "      <th>2022-04-25</th>\n",
       "      <td>161.119995</td>\n",
       "      <td>163.169998</td>\n",
       "      <td>158.460007</td>\n",
       "      <td>162.880005</td>\n",
       "      <td>161.899261</td>\n",
       "      <td>96046400</td>\n",
       "    </tr>\n",
       "    <tr>\n",
       "      <th>2022-04-26</th>\n",
       "      <td>162.250000</td>\n",
       "      <td>162.339996</td>\n",
       "      <td>156.720001</td>\n",
       "      <td>156.800003</td>\n",
       "      <td>155.855881</td>\n",
       "      <td>95623200</td>\n",
       "    </tr>\n",
       "  </tbody>\n",
       "</table>\n",
       "</div>"
      ],
      "text/plain": [
       "                  Open        High         Low       Close   Adj Close   \n",
       "Date                                                                     \n",
       "2022-04-20  168.759995  168.880005  166.100006  167.229996  166.223068  \\\n",
       "2022-04-21  168.910004  171.529999  165.910004  166.419998  165.417938   \n",
       "2022-04-22  166.460007  167.869995  161.500000  161.789993  160.815826   \n",
       "2022-04-25  161.119995  163.169998  158.460007  162.880005  161.899261   \n",
       "2022-04-26  162.250000  162.339996  156.720001  156.800003  155.855881   \n",
       "\n",
       "              Volume  \n",
       "Date                  \n",
       "2022-04-20  67929800  \n",
       "2022-04-21  87227800  \n",
       "2022-04-22  84882400  \n",
       "2022-04-25  96046400  \n",
       "2022-04-26  95623200  "
      ]
     },
     "execution_count": 199,
     "metadata": {},
     "output_type": "execute_result"
    }
   ],
   "source": [
    "data = yf. download(\"AAPL\" , start = \"2022-04-20\" , interval = '1d')\n",
    "data. head ()"
   ]
  },
  {
   "cell_type": "code",
   "execution_count": 200,
   "metadata": {},
   "outputs": [
    {
     "name": "stdout",
     "output_type": "stream",
     "text": [
      "<class 'pandas.core.frame.DataFrame'>\n",
      "DatetimeIndex: 250 entries, 2022-04-20 to 2023-04-18\n",
      "Data columns (total 6 columns):\n",
      " #   Column     Non-Null Count  Dtype  \n",
      "---  ------     --------------  -----  \n",
      " 0   Open       250 non-null    float64\n",
      " 1   High       250 non-null    float64\n",
      " 2   Low        250 non-null    float64\n",
      " 3   Close      250 non-null    float64\n",
      " 4   Adj Close  250 non-null    float64\n",
      " 5   Volume     250 non-null    int64  \n",
      "dtypes: float64(5), int64(1)\n",
      "memory usage: 13.7 KB\n"
     ]
    }
   ],
   "source": [
    "data.info()"
   ]
  },
  {
   "cell_type": "code",
   "execution_count": 201,
   "metadata": {},
   "outputs": [
    {
     "data": {
      "text/plain": [
       "0"
      ]
     },
     "execution_count": 201,
     "metadata": {},
     "output_type": "execute_result"
    }
   ],
   "source": [
    "data[\"Close\"]=pd.to_numeric(data.Close, errors='coerce')\n",
    "data.isnull () .sum () .sum ()"
   ]
  },
  {
   "cell_type": "code",
   "execution_count": 202,
   "metadata": {},
   "outputs": [
    {
     "data": {
      "image/png": "[encoded data removed]",
      "text/plain": [
       "<Figure size 640x480 with 1 Axes>"
      ]
     },
     "metadata": {},
     "output_type": "display_data"
    }
   ],
   "source": [
    "plt.plot (data.index, data['Close'], color='blue', label='Close')\n",
    "plt.show ()"
   ]
  },
  {
   "cell_type": "code",
   "execution_count": 203,
   "metadata": {},
   "outputs": [],
   "source": [
    "dataV1 = data.iloc[:, 3:4]\n",
    "dataV1 = dataV1.values"
   ]
  },
  {
   "cell_type": "code",
   "execution_count": 204,
   "metadata": {},
   "outputs": [],
   "source": [
    "from sklearn.preprocessing import MinMaxScaler\n",
    "Scaler = MinMaxScaler (feature_range=(0,1))\n",
    "dataV1 = Scaler.fit_transform (dataV1)"
   ]
  },
  {
   "cell_type": "code",
   "execution_count": 205,
   "metadata": {},
   "outputs": [],
   "source": [
    "feature_length=100"
   ]
  },
  {
   "cell_type": "code",
   "execution_count": 206,
   "metadata": {},
   "outputs": [],
   "source": [
    "def Create_Features_and_Targets(data,feature_length):\n",
    "    X = list ()\n",
    "    Y = list()\n",
    "    for i in range(len(data) - feature_length-1): \n",
    "        X.append(data[i: (i + feature_length),0])\n",
    "        Y.append (data[i + feature_length, 0])\n",
    "    X = np.array(X)\n",
    "    Y = np.array(Y)\n",
    "    return X,Y\n",
    "X_train,y_train= Create_Features_and_Targets(dataV1,feature_length)"
   ]
  },
  {
   "cell_type": "code",
   "execution_count": 207,
   "metadata": {},
   "outputs": [
    {
     "data": {
      "text/plain": [
       "((149, 100, 1), (149,))"
      ]
     },
     "execution_count": 207,
     "metadata": {},
     "output_type": "execute_result"
    }
   ],
   "source": [
    "X_train = np.reshape(X_train, (X_train.shape[0] ,X_train. shape [1], 1))\n",
    "X_train.shape, y_train.shape"
   ]
  },
  {
   "cell_type": "code",
   "execution_count": 208,
   "metadata": {},
   "outputs": [],
   "source": [
    "from tensorflow.python.keras.models import Sequential\n",
    "from tensorflow.python.keras.layers import Dense , Dropout , LSTM \n",
    "from tensorflow import keras\n",
    "\n",
    "import matplotlib.pyplot as plt\n",
    "import pandas as pd\n",
    "import numpy as np\n",
    "from tensorflow.python.keras.layers import *\n",
    "from tensorflow.python.keras.callbacks import EarlyStopping\n",
    "from sklearn.preprocessing import MinMaxScaler, StandardScaler\n",
    "from sklearn.metrics import mean_squared_error\n",
    "from sklearn.metrics import mean_absolute_percentage_error\n",
    "#from sklearn.model.selection import train_test_split\n",
    "#from sklearn.model.selection import TimeSeriesSplit\n",
    "from sklearn.metrics import mean_squared_error"
   ]
  },
  {
   "cell_type": "code",
   "execution_count": 209,
   "metadata": {},
   "outputs": [
    {
     "name": "stdout",
     "output_type": "stream",
     "text": [
      "Model: \"sequential_11\"\n",
      "_________________________________________________________________\n",
      "Layer (type)                 Output Shape              Param #   \n",
      "=================================================================\n",
      "lstm_22 (LSTM)               (None, 100, 100)          40800     \n",
      "_________________________________________________________________\n",
      "dropout_22 (Dropout)         (None, 100, 100)          0         \n",
      "_________________________________________________________________\n",
      "lstm_23 (LSTM)               (None, 100)               80400     \n",
      "_________________________________________________________________\n",
      "dropout_23 (Dropout)         (None, 100)               0         \n",
      "_________________________________________________________________\n",
      "dense_11 (Dense)             (None, 1)                 101       \n",
      "=================================================================\n",
      "Total params: 121,301\n",
      "Trainable params: 121,301\n",
      "Non-trainable params: 0\n",
      "_________________________________________________________________\n"
     ]
    }
   ],
   "source": [
    "model = Sequential( [\n",
    "    LSTM(100, return_sequences=True, input_shape=(X_train.shape [1], 1)),\n",
    "    Dropout (0.3),\n",
    "    LSTM(100, return_sequences = False),\n",
    "    Dropout (0.3),\n",
    "    Dense (1),\n",
    "])\n",
    "model.compile (optimizer='adam', loss=\"mean_squared_error\")\n",
    "model.summary()"
   ]
  },
  {
   "cell_type": "code",
   "execution_count": 210,
   "metadata": {},
   "outputs": [
    {
     "name": "stdout",
     "output_type": "stream",
     "text": [
      "Epoch 1/100\n"
     ]
    },
    {
     "name": "stderr",
     "output_type": "stream",
     "text": [
      "Exception ignored in: <function UniquePtr.__del__ at 0x00000138456BA520>\n",
      "Traceback (most recent call last):\n",
      "  File \"c:\\Users\\madhu\\AppData\\Local\\Programs\\Python\\Python311\\Lib\\site-packages\\tensorflow\\python\\framework\\c_api_util.py\", line 74, in __del__\n",
      "    self.deleter(obj)\n",
      "KeyboardInterrupt: \n"
     ]
    },
    {
     "name": "stdout",
     "output_type": "stream",
     "text": [
      "13/13 [==============================] - 11s 213ms/step - loss: 0.0676\n",
      "Epoch 2/100\n",
      "13/13 [==============================] - 3s 195ms/step - loss: 0.0258\n",
      "Epoch 3/100\n",
      "13/13 [==============================] - 3s 199ms/step - loss: 0.0148\n",
      "Epoch 4/100\n",
      "13/13 [==============================] - 2s 178ms/step - loss: 0.0144\n",
      "Epoch 5/100\n",
      "13/13 [==============================] - 2s 175ms/step - loss: 0.0131\n",
      "Epoch 6/100\n",
      "13/13 [==============================] - 2s 187ms/step - loss: 0.0119\n",
      "Epoch 7/100\n",
      "13/13 [==============================] - 2s 187ms/step - loss: 0.0113\n",
      "Epoch 8/100\n",
      "13/13 [==============================] - 2s 175ms/step - loss: 0.0146\n",
      "Epoch 9/100\n",
      "13/13 [==============================] - 2s 191ms/step - loss: 0.0149\n",
      "Epoch 10/100\n",
      "13/13 [==============================] - 2s 187ms/step - loss: 0.0101\n",
      "Epoch 11/100\n",
      "13/13 [==============================] - 2s 171ms/step - loss: 0.0094\n",
      "Epoch 12/100\n",
      "13/13 [==============================] - 2s 169ms/step - loss: 0.0096\n",
      "Epoch 13/100\n",
      "13/13 [==============================] - 2s 182ms/step - loss: 0.0101\n",
      "Epoch 14/100\n",
      "13/13 [==============================] - 2s 177ms/step - loss: 0.0093\n",
      "Epoch 15/100\n",
      "13/13 [==============================] - 2s 190ms/step - loss: 0.0095\n",
      "Epoch 16/100\n",
      "13/13 [==============================] - 2s 190ms/step - loss: 0.0106\n",
      "Epoch 17/100\n",
      "13/13 [==============================] - 2s 185ms/step - loss: 0.0094\n",
      "Epoch 18/100\n",
      "13/13 [==============================] - 3s 203ms/step - loss: 0.0096\n",
      "Epoch 19/100\n",
      "13/13 [==============================] - 2s 170ms/step - loss: 0.0099\n",
      "Epoch 20/100\n",
      "13/13 [==============================] - 2s 185ms/step - loss: 0.0092\n",
      "Epoch 21/100\n",
      "13/13 [==============================] - 2s 179ms/step - loss: 0.0096\n",
      "Epoch 22/100\n",
      "13/13 [==============================] - 2s 182ms/step - loss: 0.0089\n",
      "Epoch 23/100\n",
      "13/13 [==============================] - 2s 177ms/step - loss: 0.0091\n",
      "Epoch 24/100\n",
      "13/13 [==============================] - 3s 230ms/step - loss: 0.0091\n",
      "Epoch 25/100\n",
      "13/13 [==============================] - 3s 256ms/step - loss: 0.0097\n",
      "Epoch 26/100\n",
      "13/13 [==============================] - 3s 240ms/step - loss: 0.0109\n",
      "Epoch 27/100\n",
      "13/13 [==============================] - 3s 239ms/step - loss: 0.0096\n",
      "Epoch 28/100\n",
      "13/13 [==============================] - 3s 236ms/step - loss: 0.0086\n",
      "Epoch 29/100\n",
      "13/13 [==============================] - 3s 236ms/step - loss: 0.0082\n",
      "Epoch 30/100\n",
      "13/13 [==============================] - 3s 235ms/step - loss: 0.0090\n",
      "Epoch 31/100\n",
      "13/13 [==============================] - 3s 241ms/step - loss: 0.0097\n",
      "Epoch 32/100\n",
      "13/13 [==============================] - 3s 253ms/step - loss: 0.0087\n",
      "Epoch 33/100\n",
      "13/13 [==============================] - 3s 248ms/step - loss: 0.0079\n",
      "Epoch 34/100\n",
      "13/13 [==============================] - 3s 243ms/step - loss: 0.0080\n",
      "Epoch 35/100\n",
      "13/13 [==============================] - 3s 245ms/step - loss: 0.0077\n",
      "Epoch 36/100\n",
      "13/13 [==============================] - 3s 248ms/step - loss: 0.0084\n",
      "Epoch 37/100\n",
      "13/13 [==============================] - 3s 238ms/step - loss: 0.0091\n",
      "Epoch 38/100\n",
      "13/13 [==============================] - 3s 251ms/step - loss: 0.0070\n",
      "Epoch 39/100\n",
      "13/13 [==============================] - 3s 243ms/step - loss: 0.0071\n",
      "Epoch 40/100\n",
      "13/13 [==============================] - 3s 239ms/step - loss: 0.0075\n",
      "Epoch 41/100\n",
      "13/13 [==============================] - 4s 273ms/step - loss: 0.0088\n",
      "Epoch 42/100\n",
      "13/13 [==============================] - 3s 255ms/step - loss: 0.0083\n",
      "Epoch 43/100\n",
      "13/13 [==============================] - 3s 237ms/step - loss: 0.0076\n",
      "Epoch 44/100\n",
      "13/13 [==============================] - 3s 238ms/step - loss: 0.0089\n",
      "Epoch 45/100\n",
      "13/13 [==============================] - 3s 236ms/step - loss: 0.0076\n",
      "Epoch 46/100\n",
      "13/13 [==============================] - 3s 257ms/step - loss: 0.0082\n",
      "Epoch 47/100\n",
      "13/13 [==============================] - 3s 238ms/step - loss: 0.0075\n",
      "Epoch 48/100\n",
      "13/13 [==============================] - 3s 244ms/step - loss: 0.0070\n",
      "Epoch 49/100\n",
      "13/13 [==============================] - 3s 242ms/step - loss: 0.0075\n",
      "Epoch 50/100\n",
      "13/13 [==============================] - 3s 238ms/step - loss: 0.0070\n",
      "Epoch 51/100\n",
      "13/13 [==============================] - 3s 241ms/step - loss: 0.0076\n",
      "Epoch 52/100\n",
      "13/13 [==============================] - 3s 252ms/step - loss: 0.0068\n",
      "Epoch 53/100\n",
      "13/13 [==============================] - 3s 254ms/step - loss: 0.0074\n",
      "Epoch 54/100\n",
      "13/13 [==============================] - 3s 249ms/step - loss: 0.0070\n",
      "Epoch 55/100\n",
      "13/13 [==============================] - 3s 254ms/step - loss: 0.0088\n",
      "Epoch 56/100\n",
      "13/13 [==============================] - 3s 250ms/step - loss: 0.0080\n",
      "Epoch 57/100\n",
      "13/13 [==============================] - 3s 253ms/step - loss: 0.0079\n",
      "Epoch 58/100\n",
      "13/13 [==============================] - 3s 245ms/step - loss: 0.0073\n",
      "Epoch 59/100\n",
      "13/13 [==============================] - 3s 249ms/step - loss: 0.0075\n",
      "Epoch 60/100\n",
      "13/13 [==============================] - 3s 252ms/step - loss: 0.0073\n",
      "Epoch 61/100\n",
      "13/13 [==============================] - 3s 243ms/step - loss: 0.0069\n",
      "Epoch 62/100\n",
      "13/13 [==============================] - 3s 245ms/step - loss: 0.0077\n",
      "Epoch 63/100\n",
      "13/13 [==============================] - 3s 241ms/step - loss: 0.0077\n",
      "Epoch 64/100\n",
      "13/13 [==============================] - 3s 249ms/step - loss: 0.0074\n",
      "Epoch 65/100\n",
      "13/13 [==============================] - 3s 260ms/step - loss: 0.0078\n",
      "Epoch 66/100\n",
      "13/13 [==============================] - 3s 250ms/step - loss: 0.0067\n",
      "Epoch 67/100\n",
      "13/13 [==============================] - 3s 241ms/step - loss: 0.0078\n",
      "Epoch 68/100\n",
      "13/13 [==============================] - 3s 239ms/step - loss: 0.0073\n",
      "Epoch 69/100\n",
      "13/13 [==============================] - 3s 241ms/step - loss: 0.0077\n",
      "Epoch 70/100\n",
      "13/13 [==============================] - 3s 242ms/step - loss: 0.0075\n",
      "Epoch 71/100\n",
      "13/13 [==============================] - 3s 252ms/step - loss: 0.0059\n",
      "Epoch 72/100\n",
      "13/13 [==============================] - 3s 242ms/step - loss: 0.0077\n",
      "Epoch 73/100\n",
      "13/13 [==============================] - 3s 241ms/step - loss: 0.0080\n",
      "Epoch 74/100\n",
      "13/13 [==============================] - 3s 236ms/step - loss: 0.0065\n",
      "Epoch 75/100\n",
      "13/13 [==============================] - 3s 244ms/step - loss: 0.0069\n",
      "Epoch 76/100\n",
      "13/13 [==============================] - 3s 242ms/step - loss: 0.0065\n",
      "Epoch 77/100\n",
      "13/13 [==============================] - 3s 243ms/step - loss: 0.0066\n",
      "Epoch 78/100\n",
      "13/13 [==============================] - 3s 240ms/step - loss: 0.0070\n",
      "Epoch 79/100\n",
      "13/13 [==============================] - 3s 267ms/step - loss: 0.0065\n",
      "Epoch 80/100\n",
      "13/13 [==============================] - 3s 257ms/step - loss: 0.0066\n",
      "Epoch 81/100\n",
      "13/13 [==============================] - 3s 260ms/step - loss: 0.0062\n",
      "Epoch 82/100\n",
      "13/13 [==============================] - 4s 280ms/step - loss: 0.0058\n",
      "Epoch 83/100\n",
      "13/13 [==============================] - 4s 279ms/step - loss: 0.0070\n",
      "Epoch 84/100\n",
      "13/13 [==============================] - 3s 260ms/step - loss: 0.0062\n",
      "Epoch 85/100\n",
      "13/13 [==============================] - 3s 251ms/step - loss: 0.0065\n",
      "Epoch 86/100\n",
      "13/13 [==============================] - 3s 252ms/step - loss: 0.0065\n",
      "Epoch 87/100\n",
      "13/13 [==============================] - 3s 260ms/step - loss: 0.0073\n",
      "Epoch 88/100\n",
      "13/13 [==============================] - 3s 247ms/step - loss: 0.0059\n",
      "Epoch 89/100\n",
      "13/13 [==============================] - 3s 249ms/step - loss: 0.0057\n",
      "Epoch 90/100\n",
      "13/13 [==============================] - 3s 246ms/step - loss: 0.0061\n",
      "Epoch 91/100\n",
      "13/13 [==============================] - 3s 240ms/step - loss: 0.0066\n",
      "Epoch 92/100\n",
      "13/13 [==============================] - 3s 237ms/step - loss: 0.0074\n",
      "Epoch 93/100\n",
      "13/13 [==============================] - 4s 269ms/step - loss: 0.0065\n",
      "Epoch 94/100\n",
      "13/13 [==============================] - 3s 252ms/step - loss: 0.0068\n",
      "Epoch 95/100\n",
      "13/13 [==============================] - 3s 268ms/step - loss: 0.0058\n",
      "Epoch 96/100\n",
      "13/13 [==============================] - 3s 271ms/step - loss: 0.0064\n",
      "Epoch 97/100\n",
      "13/13 [==============================] - 4s 272ms/step - loss: 0.0059\n",
      "Epoch 98/100\n",
      "13/13 [==============================] - 3s 261ms/step - loss: 0.0057\n",
      "Epoch 99/100\n",
      "13/13 [==============================] - 3s 244ms/step - loss: 0.0068\n",
      "Epoch 100/100\n",
      "13/13 [==============================] - 3s 242ms/step - loss: 0.0059\n"
     ]
    }
   ],
   "source": [
    "history = model.fit(X_train,y_train,epochs = 100,batch_size= 12,verbose=1)\n"
   ]
  },
  {
   "cell_type": "code",
   "execution_count": 211,
   "metadata": {},
   "outputs": [],
   "source": [
    "testData = data.iloc[:,3:4] \n",
    "y_real=testData.iloc[ feature_length+1:,0:].values \n",
    "x_test = testData.iloc[:,0:].values \n",
    "x_test = Scaler.transform(x_test)\n",
    "x_test,y_test = Create_Features_and_Targets(x_test, feature_length)\n",
    "x_test = np. reshape (x_test, (x_test.shape[0],x_test.shape [1],1))"
   ]
  },
  {
   "cell_type": "code",
   "execution_count": 212,
   "metadata": {},
   "outputs": [],
   "source": [
    "y_pred = model.predict (x_test)\n",
    "predicted_price = Scaler.inverse_transform (y_pred)"
   ]
  },
  {
   "cell_type": "code",
   "execution_count": 213,
   "metadata": {},
   "outputs": [
    {
     "data": {
      "image/png": "[encoded data removed]",
      "text/plain": [
       "<Figure size 640x480 with 1 Axes>"
      ]
     },
     "metadata": {},
     "output_type": "display_data"
    }
   ],
   "source": [
    "plt.plot(y_real, color = 'red', label = 'Actual')\n",
    "plt.plot(predicted_price, color ='green', label = 'Predicted')\n",
    "plt.xlabel ('Time' ) \n",
    "plt.ylabel ('Stock')\n",
    "plt. legend ()\n",
    "plt.show ()"
   ]
  },
  {
   "cell_type": "code",
   "execution_count": 214,
   "metadata": {},
   "outputs": [
    {
     "data": {
      "text/plain": [
       "array([[164.21269]], dtype=float32)"
      ]
     },
     "execution_count": 214,
     "metadata": {},
     "output_type": "execute_result"
    }
   ],
   "source": [
    "def predict_given_date(data, date, feature_length):\n",
    "    if date not in data.index:\n",
    "        data.loc[pd.Timestamp (date)] = 0\n",
    "    idx= data.index.get_loc(date)\n",
    "    close_col = data.iloc[:,3:4]\n",
    "    close_col = close_col.iloc[idx - feature_length: idx, :].values \n",
    "    close_col = np.expand_dims(Scaler.transform(close_col), axis = 0)\n",
    "    Prediction = model.predict(close_col)\n",
    "    Prediction = Scaler.inverse_transform (Prediction)\n",
    "    return Prediction\n",
    "predict_given_date(data, '2023-04-19', feature_length)"
   ]
  },
  {
   "cell_type": "code",
   "execution_count": 215,
   "metadata": {},
   "outputs": [
    {
     "data": {
      "text/plain": [
       "Date\n",
       "2022-04-21    166.419998\n",
       "Name: Close, dtype: float64"
      ]
     },
     "execution_count": 215,
     "metadata": {},
     "output_type": "execute_result"
    }
   ],
   "source": [
    "l= data.index.get_loc('2023-04-19')\n",
    "data.iloc[1: 1+1,:]['Close']"
   ]
  },
  {
   "cell_type": "code",
   "execution_count": null,
   "metadata": {},
   "outputs": [],
   "source": []
  }
 ],
 "metadata": {
  "kernelspec": {
   "display_name": "Python 3",
   "language": "python",
   "name": "python3"
  },
  "language_info": {
   "codemirror_mode": {
    "name": "ipython",
    "version": 3
   },
   "file_extension": ".py",
   "mimetype": "text/x-python",
   "name": "python",
   "nbconvert_exporter": "python",
   "pygments_lexer": "ipython3",
   "version": "3.11.3"
  },
  "orig_nbformat": 4
 },
 "nbformat": 4,
 "nbformat_minor": 2
}
